{
 "cells": [
  {
   "cell_type": "code",
   "execution_count": 43,
   "metadata": {
    "collapsed": false
   },
   "outputs": [
    {
     "name": "stdout",
     "output_type": "stream",
     "text": [
      "[\"很好\"]\n",
      "[\"很差\"]\n",
      "[\"非常好\"]\n",
      "[\"好\"]\n",
      "[\"一般\"]\n",
      "[]\n",
      "[\"还行\"]\n",
      "[\"差\"]\n",
      "[\"星级\"]\n",
      "[\"\"]\n"
     ]
    }
   ],
   "source": [
    "import pandas as pd\n",
    "import numpy as np\n",
    "\n",
    "df = pd.read_csv('dianping.csv')\n",
    "mode =  df['estar'].unique()\n",
    "for i in mode:\n",
    "    print i"
   ]
  },
  {
   "cell_type": "code",
   "execution_count": 44,
   "metadata": {
    "collapsed": false
   },
   "outputs": [
    {
     "name": "stdout",
     "output_type": "stream",
     "text": [
      "446\n"
     ]
    }
   ],
   "source": [
    "df1 = df[df['estar'] == '[\"好\"]']\n",
    "df2 = df[df['estar'] == '[\"很好\"]']\n",
    "df3 = df[df['estar'] == '[\"非常好\"]']\n",
    "dfGood = df1.append(df2)\n",
    "dfGood = dfGood.append(df3)\n",
    "\n",
    "np.savetxt(r'pos.txt', dfGood.desc, fmt='%s')\n",
    "print len(dfGood)"
   ]
  },
  {
   "cell_type": "code",
   "execution_count": 46,
   "metadata": {
    "collapsed": false
   },
   "outputs": [
    {
     "name": "stdout",
     "output_type": "stream",
     "text": [
      "227\n"
     ]
    }
   ],
   "source": [
    "df1 = df[df['estar'] == '[\"很差\"]']\n",
    "df2 = df[df['estar'] == '[\"差\"]']\n",
    "dfBad = df1.append(df2)\n",
    "\n",
    "np.savetxt(r'neg.txt', dfBad.desc, fmt='%s')\n",
    "print len(dfBad)"
   ]
  },
  {
   "cell_type": "code",
   "execution_count": null,
   "metadata": {
    "collapsed": true
   },
   "outputs": [],
   "source": []
  },
  {
   "cell_type": "code",
   "execution_count": null,
   "metadata": {
    "collapsed": true
   },
   "outputs": [],
   "source": []
  }
 ],
 "metadata": {
  "anaconda-cloud": {},
  "kernelspec": {
   "display_name": "Python [default]",
   "language": "python",
   "name": "python2"
  },
  "language_info": {
   "codemirror_mode": {
    "name": "ipython",
    "version": 2
   },
   "file_extension": ".py",
   "mimetype": "text/x-python",
   "name": "python",
   "nbconvert_exporter": "python",
   "pygments_lexer": "ipython2",
   "version": "2.7.12"
  }
 },
 "nbformat": 4,
 "nbformat_minor": 1
}
